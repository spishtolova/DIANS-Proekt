{
  "nbformat": 4,
  "nbformat_minor": 0,
  "metadata": {
    "colab": {
      "provenance": []
    },
    "kernelspec": {
      "name": "python3",
      "display_name": "Python 3"
    },
    "language_info": {
      "name": "python"
    }
  },
  "cells": [
    {
      "cell_type": "code",
      "execution_count": 16,
      "metadata": {
        "id": "ulOHndFl4t03"
      },
      "outputs": [],
      "source": [
        "import numpy as np\n",
        "import pandas\n",
        "import requests\n",
        "from bs4 import BeautifulSoup as bs\n",
        "from IPython.display import HTML\n",
        "import warnings\n",
        "from datetime import date\n",
        "import random\n",
        "import matplotlib.pyplot as plt"
      ]
    },
    {
      "cell_type": "code",
      "source": [
        "#Scraper\n",
        "for i in (0,20,40,60):\n",
        "  if(i==0):\n",
        "      url=\"https://zk.mk/umetnichki-galerii\"\n",
        "  else:\n",
        "    url=\"https://zk.mk/umetnichki-galerii?skip=\"+str(i)\n",
        "  response = requests.get(url)\n",
        "  html = response.text\n",
        "  bshtml= bs(html,\"html.parser\")\n",
        "  galeries = bshtml.select('a.companyname')\n",
        "  galeries = [item.text for item in galeries]\n",
        "  grad = bshtml.select('li.h4efd8293a5270db14490d2fba73e0d16')\n",
        "  grad = [item.text.split(\":\")[1].strip() for item in grad]\n",
        "  desc = bshtml.select('div.shortdescription')\n",
        "  desc= desc[1::2]\n",
        "  desc = [item.text.split(\":\")[1] for item in desc]\n",
        "  adresa = bshtml.select('li.h56146bf7196e9cd84da16cf2ccd2a8df')\n",
        "  adresa = [item.text.split(\":\")[1].strip() for item in adresa]\n",
        "  rabvreme = bshtml.select('li.ha406382314ab32830b5be3ba354edd06')\n",
        "  rabvreme = [item.text.split(\":\")[1].strip() for item in rabvreme]\n",
        "  rabvreme.extend([''] * (len(galeries)-len(rabvreme)))\n",
        "  pauza = bshtml.select('li.h0d9b72a41fb93f4d82f8485abd5aba85')\n",
        "  pauza = [item.text.split(\":\")[1].strip() for item in pauza]\n",
        "  pauza.extend([''] * (len(galeries)-len(pauza)))\n",
        "\n",
        "  items={}\n",
        "  items[\"Umetnicka galerija\"]=galeries\n",
        "  items[\"Adresa\"]=adresa\n",
        "  items[\"Grad\"]=grad\n",
        "  items[\"Rabotno Vreme\"]=rabvreme\n",
        "  items[\"Pauza\"]=pauza\n",
        "  items[\"Opis\"]=desc\n",
        "\n",
        "  umetnicki_galerii=pandas.DataFrame(items)\n",
        "  if(i==0):\n",
        "    umetnicki_galerii.to_csv('Galerii.csv', index=False)\n",
        "  else:\n",
        "    umetnicki_galerii.to_csv('Galerii.csv',mode='a', index=False, header=False)\n",
        "\n",
        "galerii_prefilter= pandas.read_csv('/content/Galerii.csv')\n"
      ],
      "metadata": {
        "id": "5b7mMu8e4zIf"
      },
      "execution_count": 17,
      "outputs": []
    },
    {
      "cell_type": "code",
      "source": [
        "#get the file\n",
        "galerii_prefilter= pandas.read_csv('/content/Galerii.csv')"
      ],
      "metadata": {
        "id": "60cEgY7cxQ0v"
      },
      "execution_count": 18,
      "outputs": []
    },
    {
      "cell_type": "code",
      "source": [
        "#Pipe\n",
        "class Pipe:\n",
        "    def __init__(self):\n",
        "        self.filters = list()\n",
        "\n",
        "    def add(self, filter):\n",
        "        self.filters.append(filter)\n",
        "\n",
        "    def execute(self, message):\n",
        "        print(\"Executing pipeline...\")\n",
        "        for message_filter in self.filters:\n",
        "            print('Filtering with',message_filter)\n",
        "            message=message_filter(message)\n",
        "        print(\"Done.\")\n",
        "        return message"
      ],
      "metadata": {
        "id": "fhX9HSwDvYvU"
      },
      "execution_count": 19,
      "outputs": []
    },
    {
      "cell_type": "code",
      "source": [
        "#Filters\n",
        "def drop_columns(data):\n",
        "  return data.drop(columns=['Rabotno Vreme', 'Pauza'])\n"
      ],
      "metadata": {
        "id": "y6N18D-uwU8R"
      },
      "execution_count": 22,
      "outputs": []
    },
    {
      "cell_type": "code",
      "source": [
        "pipe=Pipe()\n",
        "pipe.add(drop_columns)\n",
        "Galerii_filtered=pipe.execute(galerii_prefilter)\n",
        "Galerii_filtered.to_csv(\"Galerii_Filtered\")"
      ],
      "metadata": {
        "colab": {
          "base_uri": "https://localhost:8080/"
        },
        "id": "QrL5_1Y2w7ET",
        "outputId": "c6c91c84-4a35-4bc7-ee6c-cc84d0ec592e"
      },
      "execution_count": 24,
      "outputs": [
        {
          "output_type": "stream",
          "name": "stdout",
          "text": [
            "Executing pipeline...\n",
            "Filtering with <function drop_columns at 0x787547e1dd80>\n",
            "Done.\n"
          ]
        }
      ]
    }
  ]
}