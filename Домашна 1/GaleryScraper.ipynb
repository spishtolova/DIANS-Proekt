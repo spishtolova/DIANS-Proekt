{
  "nbformat": 4,
  "nbformat_minor": 0,
  "metadata": {
    "colab": {
      "provenance": []
    },
    "kernelspec": {
      "name": "python3",
      "display_name": "Python 3"
    },
    "language_info": {
      "name": "python"
    }
  },
  "cells": [
    {
      "cell_type": "code",
      "execution_count": 1,
      "metadata": {
        "id": "ulOHndFl4t03"
      },
      "outputs": [],
      "source": [
        "import numpy as np\n",
        "import pandas\n",
        "import requests\n",
        "from bs4 import BeautifulSoup as bs\n",
        "from IPython.display import HTML\n",
        "import warnings\n",
        "from datetime import date\n",
        "import random\n",
        "import matplotlib.pyplot as plt"
      ]
    },
    {
      "cell_type": "code",
      "source": [
        "for i in (0,20,40,60):\n",
        "  if(i==0):\n",
        "      url=\"https://zk.mk/umetnichki-galerii\"\n",
        "  else:\n",
        "    url=\"https://zk.mk/umetnichki-galerii?skip=\"+str(i)\n",
        "  response = requests.get(url)\n",
        "  html = response.text\n",
        "  bshtml= bs(html,\"html.parser\")\n",
        "  galeries = bshtml.select('a.companyname')\n",
        "  galeries = [item.text for item in galeries]\n",
        "  grad = bshtml.select('li.h4efd8293a5270db14490d2fba73e0d16')\n",
        "  grad = [item.text.split(\":\")[1].strip() for item in grad]\n",
        "  desc = bshtml.select('div.shortdescription')\n",
        "  desc= desc[1::2]\n",
        "  desc = [item.text.split(\":\")[1] for item in desc]\n",
        "  adresa = bshtml.select('li.h56146bf7196e9cd84da16cf2ccd2a8df')\n",
        "  adresa = [item.text.split(\":\")[1].strip() for item in adresa]\n",
        "  items={}\n",
        "  items[\"Umetnicka galerija\"]=galeries\n",
        "  items[\"Adresa\"]=adresa\n",
        "  items[\"Grad\"]=grad\n",
        "  items[\"Opis\"]=desc\n",
        "\n",
        "  umetnicki_galerii=pandas.DataFrame(items)\n",
        "  if(i==0):\n",
        "    umetnicki_galerii.to_csv('Galerii.csv', index=False)\n",
        "  else:\n",
        "    umetnicki_galerii.to_csv('Galerii.csv',mode='a', index=False, header=False)"
      ],
      "metadata": {
        "id": "5b7mMu8e4zIf"
      },
      "execution_count": 3,
      "outputs": []
    }
  ]
}